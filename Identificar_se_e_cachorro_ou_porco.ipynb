{
    "cells": [
        {
            "cell_type": "code",
            "execution_count": 29,
            "source": [
                "#features\r\n",
                "#pelo longo?\r\n",
                "#Perna curta?\r\n",
                "# faz au au ?\r\n",
                "porco1=[0,1,0]\r\n",
                "porco2=[0,1,1]\r\n",
                "porco3=[1,1,0]\r\n",
                "\r\n",
                "cachorro1=[0,1,1]\r\n",
                "cachorro2=[1,1,1]\r\n",
                "cachorro3=[1,1,1]\r\n",
                "\r\n",
                "treino_x=[porco1,porco2,porco3,cachorro1,cachorro2,cachorro3]\r\n",
                "# 1 = porco e 0 = cachorro \r\n",
                "treino_y = [1,1,1,0,0,0] #labels/ etiqueta"
            ],
            "outputs": [],
            "metadata": {}
        },
        {
            "cell_type": "code",
            "execution_count": 30,
            "source": [
                "from sklearn.svm import LinearSVC\r\n",
                "#.fit faz o modelo aprender no modo supervisionado \r\n",
                "model = LinearSVC()\r\n",
                "model.fit(treino_x, treino_y)"
            ],
            "outputs": [
                {
                    "output_type": "execute_result",
                    "data": {
                        "text/plain": [
                            "LinearSVC()"
                        ]
                    },
                    "metadata": {},
                    "execution_count": 30
                }
            ],
            "metadata": {}
        },
        {
            "cell_type": "code",
            "execution_count": 31,
            "source": [
                "\r\n",
                "#predict tenta prever qual é o modelo mostrado\r\n",
                "\r\n",
                "animal_misterioso = [1,1,1]\r\n",
                "model.predict([animal_misterioso])"
            ],
            "outputs": [
                {
                    "output_type": "execute_result",
                    "data": {
                        "text/plain": [
                            "array([0])"
                        ]
                    },
                    "metadata": {},
                    "execution_count": 31
                }
            ],
            "metadata": {}
        },
        {
            "cell_type": "code",
            "execution_count": 32,
            "source": [
                "misterio1 = [1,1,1]\r\n",
                "misterio2 = [1,1,0]\r\n",
                "misterio3 = [0,1,1]\r\n",
                "teste_x = [misterio1,misterio2,misterio3]\r\n",
                "teste_y = [ 0,1,1]"
            ],
            "outputs": [],
            "metadata": {}
        },
        {
            "cell_type": "code",
            "execution_count": 33,
            "source": [
                "\r\n",
                "privisoes = model.predict(teste_x)"
            ],
            "outputs": [],
            "metadata": {}
        },
        {
            "cell_type": "code",
            "execution_count": 40,
            "source": [
                "corretos = (privisoes==teste_y).sum()\r\n",
                "total = len(teste_x)\r\n",
                "taxa_acerto = (corretos/total)*100\r\n",
                "print(\"Taxa de acertos: %.2f\"%(taxa_acerto))"
            ],
            "outputs": [
                {
                    "output_type": "stream",
                    "name": "stdout",
                    "text": [
                        "Taxa de acertos: 66.67\n"
                    ]
                }
            ],
            "metadata": {}
        },
        {
            "cell_type": "code",
            "execution_count": 39,
            "source": [
                "# accuracy = taxa de acerto \r\n",
                "from sklearn.metrics import accuracy_score \r\n",
                "taxa_acerto = accuracy_score(teste_y,privisoes)\r\n",
                "print(\"Taxa de acertos: %.2f\"%(taxa_acerto*100))"
            ],
            "outputs": [
                {
                    "output_type": "stream",
                    "name": "stdout",
                    "text": [
                        "Taxa de acertos: 66.67\n"
                    ]
                }
            ],
            "metadata": {}
        }
    ],
    "metadata": {
        "orig_nbformat": 4,
        "language_info": {
            "name": "python"
        }
    },
    "nbformat": 4,
    "nbformat_minor": 2
}