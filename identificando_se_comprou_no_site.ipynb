{
    "cells": [
        {
            "cell_type": "code",
            "execution_count": 1,
            "source": [
                "import pandas as pd \r\n",
                "url = \"https://gist.githubusercontent.com/guilhermesilveira/2d2efa37d66b6c84a722ea627a897ced/raw/10968b997d885cbded1c92938c7a9912ba41c615/tracking.csv\"\r\n",
                "dados = pd.read_csv(url)\r\n",
                "dados.head()"
            ],
            "outputs": [
                {
                    "output_type": "execute_result",
                    "data": {
                        "text/plain": [
                            "   home  how_it_works  contact  bought\n",
                            "0     1             1        0       0\n",
                            "1     1             1        0       0\n",
                            "2     1             1        0       0\n",
                            "3     1             1        0       0\n",
                            "4     1             1        0       0"
                        ],
                        "text/html": [
                            "<div>\n",
                            "<style scoped>\n",
                            "    .dataframe tbody tr th:only-of-type {\n",
                            "        vertical-align: middle;\n",
                            "    }\n",
                            "\n",
                            "    .dataframe tbody tr th {\n",
                            "        vertical-align: top;\n",
                            "    }\n",
                            "\n",
                            "    .dataframe thead th {\n",
                            "        text-align: right;\n",
                            "    }\n",
                            "</style>\n",
                            "<table border=\"1\" class=\"dataframe\">\n",
                            "  <thead>\n",
                            "    <tr style=\"text-align: right;\">\n",
                            "      <th></th>\n",
                            "      <th>home</th>\n",
                            "      <th>how_it_works</th>\n",
                            "      <th>contact</th>\n",
                            "      <th>bought</th>\n",
                            "    </tr>\n",
                            "  </thead>\n",
                            "  <tbody>\n",
                            "    <tr>\n",
                            "      <th>0</th>\n",
                            "      <td>1</td>\n",
                            "      <td>1</td>\n",
                            "      <td>0</td>\n",
                            "      <td>0</td>\n",
                            "    </tr>\n",
                            "    <tr>\n",
                            "      <th>1</th>\n",
                            "      <td>1</td>\n",
                            "      <td>1</td>\n",
                            "      <td>0</td>\n",
                            "      <td>0</td>\n",
                            "    </tr>\n",
                            "    <tr>\n",
                            "      <th>2</th>\n",
                            "      <td>1</td>\n",
                            "      <td>1</td>\n",
                            "      <td>0</td>\n",
                            "      <td>0</td>\n",
                            "    </tr>\n",
                            "    <tr>\n",
                            "      <th>3</th>\n",
                            "      <td>1</td>\n",
                            "      <td>1</td>\n",
                            "      <td>0</td>\n",
                            "      <td>0</td>\n",
                            "    </tr>\n",
                            "    <tr>\n",
                            "      <th>4</th>\n",
                            "      <td>1</td>\n",
                            "      <td>1</td>\n",
                            "      <td>0</td>\n",
                            "      <td>0</td>\n",
                            "    </tr>\n",
                            "  </tbody>\n",
                            "</table>\n",
                            "</div>"
                        ]
                    },
                    "metadata": {},
                    "execution_count": 1
                }
            ],
            "metadata": {}
        },
        {
            "cell_type": "code",
            "execution_count": 2,
            "source": [
                "mapa = {\r\n",
                "    \"home\":\"Principal\",\r\n",
                "    \"how_it_works\":\"Como_funciona\",\r\n",
                "    \"contact\":\"contato\",\r\n",
                "    \"bought\":\"comprou\"\r\n",
                "}\r\n",
                "dados = dados.rename(columns=mapa)\r\n",
                "\r\n"
            ],
            "outputs": [],
            "metadata": {}
        },
        {
            "cell_type": "code",
            "execution_count": 7,
            "source": [
                "#se for apenas 1 coluna nao precisa [[]], apenas []. \r\n",
                "x = dados[[\"Principal\",\"Como_funciona\",\"contato\"]] \r\n",
                "x.head()"
            ],
            "outputs": [
                {
                    "output_type": "execute_result",
                    "data": {
                        "text/plain": [
                            "   Principal  Como_funciona  contato\n",
                            "0          1              1        0\n",
                            "1          1              1        0\n",
                            "2          1              1        0\n",
                            "3          1              1        0\n",
                            "4          1              1        0"
                        ],
                        "text/html": [
                            "<div>\n",
                            "<style scoped>\n",
                            "    .dataframe tbody tr th:only-of-type {\n",
                            "        vertical-align: middle;\n",
                            "    }\n",
                            "\n",
                            "    .dataframe tbody tr th {\n",
                            "        vertical-align: top;\n",
                            "    }\n",
                            "\n",
                            "    .dataframe thead th {\n",
                            "        text-align: right;\n",
                            "    }\n",
                            "</style>\n",
                            "<table border=\"1\" class=\"dataframe\">\n",
                            "  <thead>\n",
                            "    <tr style=\"text-align: right;\">\n",
                            "      <th></th>\n",
                            "      <th>Principal</th>\n",
                            "      <th>Como_funciona</th>\n",
                            "      <th>contato</th>\n",
                            "    </tr>\n",
                            "  </thead>\n",
                            "  <tbody>\n",
                            "    <tr>\n",
                            "      <th>0</th>\n",
                            "      <td>1</td>\n",
                            "      <td>1</td>\n",
                            "      <td>0</td>\n",
                            "    </tr>\n",
                            "    <tr>\n",
                            "      <th>1</th>\n",
                            "      <td>1</td>\n",
                            "      <td>1</td>\n",
                            "      <td>0</td>\n",
                            "    </tr>\n",
                            "    <tr>\n",
                            "      <th>2</th>\n",
                            "      <td>1</td>\n",
                            "      <td>1</td>\n",
                            "      <td>0</td>\n",
                            "    </tr>\n",
                            "    <tr>\n",
                            "      <th>3</th>\n",
                            "      <td>1</td>\n",
                            "      <td>1</td>\n",
                            "      <td>0</td>\n",
                            "    </tr>\n",
                            "    <tr>\n",
                            "      <th>4</th>\n",
                            "      <td>1</td>\n",
                            "      <td>1</td>\n",
                            "      <td>0</td>\n",
                            "    </tr>\n",
                            "  </tbody>\n",
                            "</table>\n",
                            "</div>"
                        ]
                    },
                    "metadata": {},
                    "execution_count": 7
                }
            ],
            "metadata": {}
        },
        {
            "cell_type": "code",
            "execution_count": 9,
            "source": [
                "y = dados[\"comprou\"]\r\n",
                "y.head()"
            ],
            "outputs": [
                {
                    "output_type": "execute_result",
                    "data": {
                        "text/plain": [
                            "0    0\n",
                            "1    0\n",
                            "2    0\n",
                            "3    0\n",
                            "4    0\n",
                            "Name: comprou, dtype: int64"
                        ]
                    },
                    "metadata": {},
                    "execution_count": 9
                }
            ],
            "metadata": {}
        },
        {
            "cell_type": "code",
            "execution_count": 6,
            "source": [
                "#Quantidade dos dados\r\n",
                "dados.shape[0]"
            ],
            "outputs": [
                {
                    "output_type": "execute_result",
                    "data": {
                        "text/plain": [
                            "99"
                        ]
                    },
                    "metadata": {},
                    "execution_count": 6
                }
            ],
            "metadata": {}
        },
        {
            "cell_type": "code",
            "execution_count": 25,
            "source": [
                "treino_x = x[:75]\r\n",
                "treino_y = y[:75]\r\n",
                "teste_x=x[75:]\r\n",
                "teste_y=y[75:]\r\n",
                "print(\"Treinaremos com {} elementos e testaremos com {}  elementos\".format(treino_x.shape[0],teste_x.shape[0]))"
            ],
            "outputs": [
                {
                    "output_type": "stream",
                    "name": "stdout",
                    "text": [
                        "Treinaremos com 75 elementos e testaremos com 24  elementos\n"
                    ]
                }
            ],
            "metadata": {}
        },
        {
            "cell_type": "code",
            "execution_count": 26,
            "source": [
                "from sklearn.svm import LinearSVC\r\n",
                "modelo = LinearSVC()\r\n",
                "#treinando em cima dos dados\r\n",
                "modelo.fit(treino_x,treino_y)\r\n",
                "previsoes =modelo.predict(teste_x)\r\n"
            ],
            "outputs": [],
            "metadata": {}
        },
        {
            "cell_type": "code",
            "execution_count": 38,
            "source": [
                "from sklearn.metrics import accuracy_score\r\n",
                "taxa_de_acerto = accuracy_score(teste_y,previsoes)*100\r\n",
                "print(\"taxa de acerto de %.2f\"%taxa_de_acerto)"
            ],
            "outputs": [
                {
                    "output_type": "stream",
                    "name": "stdout",
                    "text": [
                        "taxa de acerto de 95.83\n"
                    ]
                }
            ],
            "metadata": {}
        },
        {
            "cell_type": "code",
            "execution_count": 48,
            "source": [
                "# faz o treino e o teste \r\n",
                "from sklearn.model_selection import train_test_split\r\n",
                "SEED = 20\r\n",
                "treino_x,teste_x,treino_y,teste_y = train_test_split(x,y,test_size=0.25,random_state=SEED) #pegando os dados inteiros e fazendo teste com apenas 25% \r\n",
                " \r\n",
                "print(\"Treinaremos com {} elementos e testaremos com {}  elementos\".format(treino_x.shape[0],teste_x.shape[0]))\r\n"
            ],
            "outputs": [
                {
                    "output_type": "stream",
                    "name": "stdout",
                    "text": [
                        "Treinaremos com 74 elementos e testaremos com 25  elementos\n"
                    ]
                }
            ],
            "metadata": {}
        },
        {
            "cell_type": "code",
            "execution_count": 49,
            "source": [
                "from sklearn.svm import LinearSVC\r\n",
                "from sklearn.metrics import accuracy_score\r\n",
                "modelo = LinearSVC()\r\n",
                "#treinando em cima dos dados\r\n",
                "modelo.fit(treino_x,treino_y)\r\n",
                "previsoes =modelo.predict(teste_x)\r\n",
                "taxa_de_acerto = accuracy_score(teste_y,previsoes)*100\r\n",
                "print(\"taxa de acerto de %.2f\"%taxa_de_acerto)"
            ],
            "outputs": [
                {
                    "output_type": "stream",
                    "name": "stdout",
                    "text": [
                        "taxa de acerto de 96.00\n"
                    ]
                }
            ],
            "metadata": {}
        },
        {
            "cell_type": "code",
            "execution_count": 50,
            "source": [
                "treino_y.value_counts()"
            ],
            "outputs": [
                {
                    "output_type": "execute_result",
                    "data": {
                        "text/plain": [
                            "0    47\n",
                            "1    27\n",
                            "Name: comprou, dtype: int64"
                        ]
                    },
                    "metadata": {},
                    "execution_count": 50
                }
            ],
            "metadata": {}
        },
        {
            "cell_type": "code",
            "execution_count": 51,
            "source": [
                "teste_y.value_counts()"
            ],
            "outputs": [
                {
                    "output_type": "execute_result",
                    "data": {
                        "text/plain": [
                            "0    19\n",
                            "1     6\n",
                            "Name: comprou, dtype: int64"
                        ]
                    },
                    "metadata": {},
                    "execution_count": 51
                }
            ],
            "metadata": {}
        },
        {
            "cell_type": "code",
            "execution_count": 52,
            "source": [
                "from sklearn.svm import LinearSVC\r\n",
                "from sklearn.metrics import accuracy_score\r\n",
                "from sklearn.model_selection import train_test_split\r\n",
                "SEED = 20\r\n",
                "treino_x,teste_x,treino_y,teste_y = train_test_split(x,y,test_size=0.25,random_state=SEED,stratify=y) #stratify separa proporcionalmente\r\n",
                "print(\"Treinaremos com {} elementos e testaremos com {}  elementos\".format(treino_x.shape[0],teste_x.shape[0]))\r\n",
                "\r\n",
                "modelo = LinearSVC()\r\n",
                "#treinando em cima dos dados\r\n",
                "modelo.fit(treino_x,treino_y)\r\n",
                "previsoes =modelo.predict(teste_x)\r\n",
                "taxa_de_acerto = accuracy_score(teste_y,previsoes)*100\r\n",
                "print(\"taxa de acerto de %.2f\"%taxa_de_acerto)"
            ],
            "outputs": [
                {
                    "output_type": "stream",
                    "name": "stdout",
                    "text": [
                        "Treinaremos com 74 elementos e testaremos com 25  elementos\n",
                        "taxa de acerto de 96.00\n"
                    ]
                }
            ],
            "metadata": {}
        },
        {
            "cell_type": "code",
            "execution_count": 54,
            "source": [
                "treino_y.value_counts()"
            ],
            "outputs": [
                {
                    "output_type": "execute_result",
                    "data": {
                        "text/plain": [
                            "0    49\n",
                            "1    25\n",
                            "Name: comprou, dtype: int64"
                        ]
                    },
                    "metadata": {},
                    "execution_count": 54
                }
            ],
            "metadata": {}
        },
        {
            "cell_type": "code",
            "execution_count": 55,
            "source": [
                "treino_y.value_counts()"
            ],
            "outputs": [
                {
                    "output_type": "execute_result",
                    "data": {
                        "text/plain": [
                            "0    49\n",
                            "1    25\n",
                            "Name: comprou, dtype: int64"
                        ]
                    },
                    "metadata": {},
                    "execution_count": 55
                }
            ],
            "metadata": {}
        }
    ],
    "metadata": {
        "orig_nbformat": 4,
        "language_info": {
            "name": "python"
        }
    },
    "nbformat": 4,
    "nbformat_minor": 2
}